{
 "cells": [
  {
   "cell_type": "code",
   "execution_count": 1,
   "metadata": {},
   "outputs": [
    {
     "name": "stderr",
     "output_type": "stream",
     "text": [
      "Warning message:\n",
      "\"package 'pROC' was built under R version 3.4.3\"Type 'citation(\"pROC\")' for a citation.\n",
      "\n",
      "Attaching package: 'pROC'\n",
      "\n",
      "The following objects are masked from 'package:stats':\n",
      "\n",
      "    cov, smooth, var\n",
      "\n"
     ]
    }
   ],
   "source": [
    "library('pROC')"
   ]
  },
  {
   "cell_type": "code",
   "execution_count": 2,
   "metadata": {},
   "outputs": [],
   "source": [
    "point_distance = function(x,y)\n",
    "    {   return(sqrt((1-x)^2 + (1-y)^2)) }"
   ]
  },
  {
   "cell_type": "code",
   "execution_count": 3,
   "metadata": {},
   "outputs": [],
   "source": [
    "gameplay_df = read.csv(file = 'gameplay_data_metrics.csv',header = T)"
   ]
  },
  {
   "cell_type": "code",
   "execution_count": 4,
   "metadata": {},
   "outputs": [],
   "source": [
    "log_energy = log(gameplay_df$energy,2)\n",
    "avg_amp = scale(gameplay_df$avg_amp)\n",
    "max_amp = scale(gameplay_df$max_amp)\n",
    "energy = scale(gameplay_df$energy)\n",
    "sids = as.numeric(gameplay_df$sampID)"
   ]
  },
  {
   "cell_type": "code",
   "execution_count": 5,
   "metadata": {
    "scrolled": true
   },
   "outputs": [
    {
     "data": {
      "text/html": [
       "<table>\n",
       "<thead><tr><th></th><th scope=col>avg_amp</th><th scope=col>energy</th><th scope=col>max_amp</th><th scope=col>log_energy</th></tr></thead>\n",
       "<tbody>\n",
       "\t<tr><th scope=row>avg_amp</th><td>1.0000000</td><td>0.9938466</td><td>0.4866060</td><td>0.8442596</td></tr>\n",
       "\t<tr><th scope=row>energy</th><td>0.9938466</td><td>1.0000000</td><td>0.5001845</td><td>0.8542637</td></tr>\n",
       "\t<tr><th scope=row>max_amp</th><td>0.4866060</td><td>0.5001845</td><td>1.0000000</td><td>0.4629704</td></tr>\n",
       "\t<tr><th scope=row>log_energy</th><td>0.8442596</td><td>0.8542637</td><td>0.4629704</td><td>1.0000000</td></tr>\n",
       "</tbody>\n",
       "</table>\n"
      ],
      "text/latex": [
       "\\begin{tabular}{r|llll}\n",
       "  & avg\\_amp & energy & max\\_amp & log\\_energy\\\\\n",
       "\\hline\n",
       "\tavg\\_amp & 1.0000000 & 0.9938466 & 0.4866060 & 0.8442596\\\\\n",
       "\tenergy & 0.9938466 & 1.0000000 & 0.5001845 & 0.8542637\\\\\n",
       "\tmax\\_amp & 0.4866060 & 0.5001845 & 1.0000000 & 0.4629704\\\\\n",
       "\tlog\\_energy & 0.8442596 & 0.8542637 & 0.4629704 & 1.0000000\\\\\n",
       "\\end{tabular}\n"
      ],
      "text/markdown": [
       "\n",
       "| <!--/--> | avg_amp | energy | max_amp | log_energy | \n",
       "|---|---|---|---|\n",
       "| avg_amp | 1.0000000 | 0.9938466 | 0.4866060 | 0.8442596 | \n",
       "| energy | 0.9938466 | 1.0000000 | 0.5001845 | 0.8542637 | \n",
       "| max_amp | 0.4866060 | 0.5001845 | 1.0000000 | 0.4629704 | \n",
       "| log_energy | 0.8442596 | 0.8542637 | 0.4629704 | 1.0000000 | \n",
       "\n",
       "\n"
      ],
      "text/plain": [
       "           avg_amp   energy    max_amp   log_energy\n",
       "avg_amp    1.0000000 0.9938466 0.4866060 0.8442596 \n",
       "energy     0.9938466 1.0000000 0.5001845 0.8542637 \n",
       "max_amp    0.4866060 0.5001845 1.0000000 0.4629704 \n",
       "log_energy 0.8442596 0.8542637 0.4629704 1.0000000 "
      ]
     },
     "metadata": {},
     "output_type": "display_data"
    }
   ],
   "source": [
    "temp = cbind(avg_amp,energy,max_amp,log_energy)\n",
    "colnames(temp) = c('avg_amp', 'energy', 'max_amp', 'log_energy')\n",
    "cor(temp)"
   ]
  },
  {
   "cell_type": "markdown",
   "metadata": {},
   "source": [
    "# Gameplay Level Model"
   ]
  },
  {
   "cell_type": "markdown",
   "metadata": {},
   "source": [
    "### Linear model"
   ]
  },
  {
   "cell_type": "code",
   "execution_count": 14,
   "metadata": {},
   "outputs": [
    {
     "data": {
      "text/plain": [
       "\n",
       "Call:\n",
       "lm(formula = y_linear ~ avg_amp + max_amp + log_energy)\n",
       "\n",
       "Residuals:\n",
       "    Min      1Q  Median      3Q     Max \n",
       "-0.7401 -0.5317  0.2920  0.4341  1.3333 \n",
       "\n",
       "Coefficients:\n",
       "            Estimate Std. Error t value Pr(>|t|)    \n",
       "(Intercept)  1.94263    0.67362   2.884   0.0041 ** \n",
       "avg_amp      0.18765    0.04048   4.636 4.53e-06 ***\n",
       "max_amp     -0.13629    0.02448  -5.568 4.17e-08 ***\n",
       "log_energy  -0.08680    0.04167  -2.083   0.0377 *  \n",
       "---\n",
       "Signif. codes:  0 '***' 0.001 '**' 0.01 '*' 0.05 '.' 0.1 ' ' 1\n",
       "\n",
       "Residual standard error: 0.4799 on 507 degrees of freedom\n",
       "Multiple R-squared:  0.0802,\tAdjusted R-squared:  0.07476 \n",
       "F-statistic: 14.74 on 3 and 507 DF,  p-value: 3.259e-09\n"
      ]
     },
     "metadata": {},
     "output_type": "display_data"
    }
   ],
   "source": [
    "y_linear = as.numeric(gameplay_df$tremor) - 1\n",
    "model_linear = lm(y_linear ~ avg_amp + max_amp + log_energy)\n",
    "summary(model_linear)\n"
   ]
  },
  {
   "cell_type": "code",
   "execution_count": 15,
   "metadata": {},
   "outputs": [
    {
     "data": {
      "text/html": [
       "0.696006783842121"
      ],
      "text/latex": [
       "0.696006783842121"
      ],
      "text/markdown": [
       "0.696006783842121"
      ],
      "text/plain": [
       "Area under the curve: 0.696"
      ]
     },
     "metadata": {},
     "output_type": "display_data"
    }
   ],
   "source": [
    "ROC_linear = roc(response = y_linear, predictor = predict(model_linear))\n",
    "ROC_linear$auc"
   ]
  },
  {
   "cell_type": "markdown",
   "metadata": {},
   "source": [
    "# Patient Level Models"
   ]
  },
  {
   "cell_type": "markdown",
   "metadata": {},
   "source": [
    "## Median Model"
   ]
  },
  {
   "cell_type": "code",
   "execution_count": 7,
   "metadata": {
    "scrolled": false
   },
   "outputs": [
    {
     "data": {
      "text/html": [
       "<table>\n",
       "<thead><tr><th></th><th scope=col>disease</th><th scope=col>pd_history</th><th scope=col>notes</th></tr></thead>\n",
       "<tbody>\n",
       "\t<tr><th scope=row>sc002b</th><td>PD</td><td>N </td><td>  </td></tr>\n",
       "\t<tr><th scope=row>sc007g</th><td>PD</td><td>N </td><td>  </td></tr>\n",
       "\t<tr><th scope=row>sc009i</th><td>PD</td><td>N </td><td>  </td></tr>\n",
       "\t<tr><th scope=row>sc010j</th><td>PD</td><td>N </td><td>  </td></tr>\n",
       "\t<tr><th scope=row>sc011k</th><td>PD</td><td>N </td><td>  </td></tr>\n",
       "\t<tr><th scope=row>sc013m</th><td>PD</td><td>N </td><td>  </td></tr>\n",
       "</tbody>\n",
       "</table>\n"
      ],
      "text/latex": [
       "\\begin{tabular}{r|lll}\n",
       "  & disease & pd\\_history & notes\\\\\n",
       "\\hline\n",
       "\tsc002b & PD & N  &   \\\\\n",
       "\tsc007g & PD & N  &   \\\\\n",
       "\tsc009i & PD & N  &   \\\\\n",
       "\tsc010j & PD & N  &   \\\\\n",
       "\tsc011k & PD & N  &   \\\\\n",
       "\tsc013m & PD & N  &   \\\\\n",
       "\\end{tabular}\n"
      ],
      "text/markdown": [
       "\n",
       "| <!--/--> | disease | pd_history | notes | \n",
       "|---|---|---|---|---|---|\n",
       "| sc002b | PD | N  |    | \n",
       "| sc007g | PD | N  |    | \n",
       "| sc009i | PD | N  |    | \n",
       "| sc010j | PD | N  |    | \n",
       "| sc011k | PD | N  |    | \n",
       "| sc013m | PD | N  |    | \n",
       "\n",
       "\n"
      ],
      "text/plain": [
       "       disease pd_history notes\n",
       "sc002b PD      N               \n",
       "sc007g PD      N               \n",
       "sc009i PD      N               \n",
       "sc010j PD      N               \n",
       "sc011k PD      N               \n",
       "sc013m PD      N               "
      ]
     },
     "metadata": {},
     "output_type": "display_data"
    }
   ],
   "source": [
    "patient_disease_status = read.table(file = './data/sample_disease_info.txt', header=T, fill =T, sep = '\\t', row.names = 1)\n",
    "valid_rows = which(row.names(patient_disease_status) %in% gameplay_df$sampID)\n",
    "patient_disease_status = patient_disease_status[valid_rows,]\n",
    "head(patient_disease_status)"
   ]
  },
  {
   "cell_type": "code",
   "execution_count": 8,
   "metadata": {},
   "outputs": [],
   "source": [
    "prediction_results = predict(model_linear)\n",
    "patient_ids = row.names(patient_disease_status)\n",
    "actual_disease = patient_disease_status$disease\n",
    "\n",
    "mean_prediction = c()\n",
    "median_prediction = c()\n",
    "\n",
    "for (id in patient_ids)\n",
    "    {\n",
    "        pat_ind = which(gameplay_df$sampID == id)\n",
    "        mean_predicted_score = mean(prediction_results[pat_ind])\n",
    "        median_predicted_score = median(prediction_results[pat_ind])\n",
    "        mean_prediction = c(mean_prediction,mean_predicted_score)\n",
    "        median_prediction = c(median_prediction,median_predicted_score)\n",
    "    }"
   ]
  },
  {
   "cell_type": "code",
   "execution_count": 9,
   "metadata": {},
   "outputs": [],
   "source": [
    "y_agg = as.numeric(actual_disease) - 1"
   ]
  },
  {
   "cell_type": "code",
   "execution_count": 10,
   "metadata": {},
   "outputs": [
    {
     "data": {
      "text/plain": [
       "\n",
       "Call:\n",
       "lm(formula = y_agg ~ median_prediction)\n",
       "\n",
       "Residuals:\n",
       "    Min      1Q  Median      3Q     Max \n",
       "-0.8078 -0.4265  0.1299  0.4211  0.5757 \n",
       "\n",
       "Coefficients:\n",
       "                  Estimate Std. Error t value Pr(>|t|)   \n",
       "(Intercept)        -1.1298     0.5251  -2.152  0.03709 * \n",
       "median_prediction   3.0200     0.9330   3.237  0.00233 **\n",
       "---\n",
       "Signif. codes:  0 '***' 0.001 '**' 0.01 '*' 0.05 '.' 0.1 ' ' 1\n",
       "\n",
       "Residual standard error: 0.4558 on 43 degrees of freedom\n",
       "Multiple R-squared:  0.1959,\tAdjusted R-squared:  0.1772 \n",
       "F-statistic: 10.48 on 1 and 43 DF,  p-value: 0.00233\n"
      ]
     },
     "metadata": {},
     "output_type": "display_data"
    }
   ],
   "source": [
    "model_median = lm(y_agg ~ median_prediction)\n",
    "res_median = fitted(model_median)\n",
    "summary(model_median)"
   ]
  },
  {
   "cell_type": "code",
   "execution_count": 11,
   "metadata": {},
   "outputs": [
    {
     "data": {
      "text/html": [
       "0.76"
      ],
      "text/latex": [
       "0.76"
      ],
      "text/markdown": [
       "0.76"
      ],
      "text/plain": [
       "[1] 0.76"
      ]
     },
     "metadata": {},
     "output_type": "display_data"
    },
    {
     "data": {
      "text/html": [
       "0.65"
      ],
      "text/latex": [
       "0.65"
      ],
      "text/markdown": [
       "0.65"
      ],
      "text/plain": [
       "[1] 0.65"
      ]
     },
     "metadata": {},
     "output_type": "display_data"
    },
    {
     "data": {
      "image/png": "[encoded data removed]",
      "text/plain": [
       "Plot with title \"AUC 0.752\""
      ]
     },
     "metadata": {},
     "output_type": "display_data"
    }
   ],
   "source": [
    "ROC_median = roc(response = y_agg, predictor = res_median)\n",
    "plot.roc(ROC_median, main = paste('AUC',round(ROC_median$auc,4)))\n",
    "\n",
    "distances = point_distance(ROC_median$sensitivities, ROC_median$specificities)\n",
    "best_point = which(distances == min(distances))\n",
    "points(y = ROC_median$sensitivities[best_point], x = ROC_median$specificities[best_point], col = 'red',pch=19)\n",
    "\n",
    "ROC_median$sensitivities[best_point]\n",
    "ROC_median$specificities[best_point]"
   ]
  },
  {
   "cell_type": "markdown",
   "metadata": {
    "collapsed": true
   },
   "source": [
    "## Median + GRS Model"
   ]
  },
  {
   "cell_type": "code",
   "execution_count": 15,
   "metadata": {},
   "outputs": [
    {
     "data": {
      "text/html": [
       "<table>\n",
       "<thead><tr><th scope=col>user_num</th><th scope=col>grs</th></tr></thead>\n",
       "<tbody>\n",
       "\t<tr><td>1       </td><td>2.080211</td></tr>\n",
       "\t<tr><td>2       </td><td>2.551895</td></tr>\n",
       "\t<tr><td>3       </td><td>2.061779</td></tr>\n",
       "\t<tr><td>4       </td><td>2.089163</td></tr>\n",
       "\t<tr><td>5       </td><td>1.588184</td></tr>\n",
       "\t<tr><td>6       </td><td>1.996205</td></tr>\n",
       "</tbody>\n",
       "</table>\n"
      ],
      "text/latex": [
       "\\begin{tabular}{r|ll}\n",
       " user\\_num & grs\\\\\n",
       "\\hline\n",
       "\t 1        & 2.080211\\\\\n",
       "\t 2        & 2.551895\\\\\n",
       "\t 3        & 2.061779\\\\\n",
       "\t 4        & 2.089163\\\\\n",
       "\t 5        & 1.588184\\\\\n",
       "\t 6        & 1.996205\\\\\n",
       "\\end{tabular}\n"
      ],
      "text/markdown": [
       "\n",
       "user_num | grs | \n",
       "|---|---|---|---|---|---|\n",
       "| 1        | 2.080211 | \n",
       "| 2        | 2.551895 | \n",
       "| 3        | 2.061779 | \n",
       "| 4        | 2.089163 | \n",
       "| 5        | 1.588184 | \n",
       "| 6        | 1.996205 | \n",
       "\n",
       "\n"
      ],
      "text/plain": [
       "  user_num grs     \n",
       "1 1        2.080211\n",
       "2 2        2.551895\n",
       "3 3        2.061779\n",
       "4 4        2.089163\n",
       "5 5        1.588184\n",
       "6 6        1.996205"
      ]
     },
     "metadata": {},
     "output_type": "display_data"
    }
   ],
   "source": [
    "patient_pd_grs = read.table(file = './data/genetic_data/snp_grs.txt',col.names = c('user_num','grs'))\n",
    "head(patient_pd_grs)"
   ]
  },
  {
   "cell_type": "code",
   "execution_count": 16,
   "metadata": {},
   "outputs": [
    {
     "data": {
      "text/html": [
       "<table>\n",
       "<thead><tr><th scope=col>patient_id</th><th scope=col>patient_num</th></tr></thead>\n",
       "<tbody>\n",
       "\t<tr><td>sc002b</td><td>2     </td></tr>\n",
       "\t<tr><td>sc007g</td><td>7     </td></tr>\n",
       "\t<tr><td>sc009i</td><td>9     </td></tr>\n",
       "\t<tr><td>sc010j</td><td>10    </td></tr>\n",
       "\t<tr><td>sc011k</td><td>11    </td></tr>\n",
       "\t<tr><td>sc013m</td><td>13    </td></tr>\n",
       "</tbody>\n",
       "</table>\n"
      ],
      "text/latex": [
       "\\begin{tabular}{r|ll}\n",
       " patient\\_id & patient\\_num\\\\\n",
       "\\hline\n",
       "\t sc002b & 2     \\\\\n",
       "\t sc007g & 7     \\\\\n",
       "\t sc009i & 9     \\\\\n",
       "\t sc010j & 10    \\\\\n",
       "\t sc011k & 11    \\\\\n",
       "\t sc013m & 13    \\\\\n",
       "\\end{tabular}\n"
      ],
      "text/markdown": [
       "\n",
       "patient_id | patient_num | \n",
       "|---|---|---|---|---|---|\n",
       "| sc002b | 2      | \n",
       "| sc007g | 7      | \n",
       "| sc009i | 9      | \n",
       "| sc010j | 10     | \n",
       "| sc011k | 11     | \n",
       "| sc013m | 13     | \n",
       "\n",
       "\n"
      ],
      "text/plain": [
       "  patient_id patient_num\n",
       "1 sc002b     2          \n",
       "2 sc007g     7          \n",
       "3 sc009i     9          \n",
       "4 sc010j     10         \n",
       "5 sc011k     11         \n",
       "6 sc013m     13         "
      ]
     },
     "metadata": {},
     "output_type": "display_data"
    }
   ],
   "source": [
    "patient_ids_mapping = sapply( (strsplit(x = row.names(patient_disease_status),split = \"[[:lower:]]\")), `[`, 3)\n",
    "patient_ids_mapping = as.data.frame(cbind(row.names(patient_disease_status),as.numeric(patient_ids_mapping)))\n",
    "colnames(patient_ids_mapping) = c('patient_id','patient_num')\n",
    "head(patient_ids_mapping)"
   ]
  },
  {
   "cell_type": "code",
   "execution_count": 17,
   "metadata": {},
   "outputs": [],
   "source": [
    "grs_index = match(patient_ids_mapping$patient_num, patient_pd_grs$user_num)\n",
    "patient_grs = patient_pd_grs$grs[grs_index]"
   ]
  },
  {
   "cell_type": "code",
   "execution_count": 18,
   "metadata": {},
   "outputs": [
    {
     "data": {
      "text/plain": [
       "\n",
       "Call:\n",
       "lm(formula = y_agg ~ median_prediction + patient_grs)\n",
       "\n",
       "Residuals:\n",
       "    Min      1Q  Median      3Q     Max \n",
       "-0.8162 -0.4194  0.1283  0.4179  0.5702 \n",
       "\n",
       "Coefficients:\n",
       "                  Estimate Std. Error t value Pr(>|t|)   \n",
       "(Intercept)       -0.97597    0.68259  -1.430  0.16017   \n",
       "median_prediction  2.98987    0.94639   3.159  0.00293 **\n",
       "patient_grs       -0.06778    0.18923  -0.358  0.72199   \n",
       "---\n",
       "Signif. codes:  0 '***' 0.001 '**' 0.01 '*' 0.05 '.' 0.1 ' ' 1\n",
       "\n",
       "Residual standard error: 0.4605 on 42 degrees of freedom\n",
       "Multiple R-squared:  0.1984,\tAdjusted R-squared:  0.1602 \n",
       "F-statistic: 5.196 on 2 and 42 DF,  p-value: 0.009628\n"
      ]
     },
     "metadata": {},
     "output_type": "display_data"
    }
   ],
   "source": [
    "model_agg = lm(y_agg ~ median_prediction + patient_grs)\n",
    "res_agg = fitted(model_agg)\n",
    "summary(model_agg)"
   ]
  },
  {
   "cell_type": "code",
   "execution_count": 19,
   "metadata": {
    "scrolled": false
   },
   "outputs": [
    {
     "data": {
      "text/html": [
       "0.8"
      ],
      "text/latex": [
       "0.8"
      ],
      "text/markdown": [
       "0.8"
      ],
      "text/plain": [
       "[1] 0.8"
      ]
     },
     "metadata": {},
     "output_type": "display_data"
    },
    {
     "data": {
      "text/html": [
       "0.65"
      ],
      "text/latex": [
       "0.65"
      ],
      "text/markdown": [
       "0.65"
      ],
      "text/plain": [
       "[1] 0.65"
      ]
     },
     "metadata": {},
     "output_type": "display_data"
    },
    {
     "data": {
      "image/png": "[encoded data removed]",
      "text/plain": [
       "Plot with title \"AUC 0.734\""
      ]
     },
     "metadata": {},
     "output_type": "display_data"
    }
   ],
   "source": [
    "ROC_agg = roc(response = y_agg, predictor = res_agg)\n",
    "plot.roc(ROC_agg, main = paste('AUC',round(ROC_agg$auc,4)))\n",
    "\n",
    "distances = point_distance(ROC_agg$sensitivities, ROC_agg$specificities)\n",
    "best_point = which(distances == min(distances))\n",
    "points(y = ROC_agg$sensitivities[best_point], x = ROC_agg$specificities[best_point], col = 'red',pch=19)\n",
    "\n",
    "ROC_agg$sensitivities[best_point]\n",
    "ROC_agg$specificities[best_point]"
   ]
  },
  {
   "cell_type": "markdown",
   "metadata": {},
   "source": [
    "### Model with GRS plus Patient PD history"
   ]
  },
  {
   "cell_type": "code",
   "execution_count": 20,
   "metadata": {},
   "outputs": [
    {
     "data": {
      "text/plain": [
       "\n",
       "Call:\n",
       "lm(formula = y_agg ~ (median_prediction + patient_grs + family_history))\n",
       "\n",
       "Residuals:\n",
       "    Min      1Q  Median      3Q     Max \n",
       "-0.8026 -0.3764  0.1312  0.4242  0.6179 \n",
       "\n",
       "Coefficients:\n",
       "                  Estimate Std. Error t value Pr(>|t|)   \n",
       "(Intercept)        -1.2756     0.7466  -1.708  0.09511 . \n",
       "median_prediction   3.2962     0.9957   3.310  0.00195 **\n",
       "patient_grs        -0.0197     0.1954  -0.101  0.92019   \n",
       "family_history      0.2022     0.2039   0.991  0.32728   \n",
       "---\n",
       "Signif. codes:  0 '***' 0.001 '**' 0.01 '*' 0.05 '.' 0.1 ' ' 1\n",
       "\n",
       "Residual standard error: 0.4606 on 41 degrees of freedom\n",
       "Multiple R-squared:  0.2171,\tAdjusted R-squared:  0.1598 \n",
       "F-statistic:  3.79 on 3 and 41 DF,  p-value: 0.01729\n"
      ]
     },
     "metadata": {},
     "output_type": "display_data"
    }
   ],
   "source": [
    "family_history = as.numeric(patient_disease_status$pd_history) - 1\n",
    "agg_model = lm(y_agg ~ (median_prediction + patient_grs + family_history))\n",
    "res = fitted(agg_model)\n",
    "summary(agg_model)"
   ]
  },
  {
   "cell_type": "code",
   "execution_count": 21,
   "metadata": {
    "scrolled": false
   },
   "outputs": [
    {
     "data": {
      "text/html": [
       "0.76"
      ],
      "text/latex": [
       "0.76"
      ],
      "text/markdown": [
       "0.76"
      ],
      "text/plain": [
       "[1] 0.76"
      ]
     },
     "metadata": {},
     "output_type": "display_data"
    },
    {
     "data": {
      "text/html": [
       "0.7"
      ],
      "text/latex": [
       "0.7"
      ],
      "text/markdown": [
       "0.7"
      ],
      "text/plain": [
       "[1] 0.7"
      ]
     },
     "metadata": {},
     "output_type": "display_data"
    },
    {
     "data": {
      "image/png": "[encoded data removed]",
      "text/plain": [
       "Plot with title \"AUC 0.772\""
      ]
     },
     "metadata": {},
     "output_type": "display_data"
    }
   ],
   "source": [
    "ROC = roc(response = y_agg, predictor = res)\n",
    "plot.roc(ROC, main = paste('AUC',round(ROC$auc,4)))\n",
    "\n",
    "distances = point_distance(ROC$sensitivities, ROC$specificities)\n",
    "best_point = which(distances == min(distances))\n",
    "points(y = ROC$sensitivities[best_point], x = ROC$specificities[best_point], col = 'red',pch=19)\n",
    "\n",
    "ROC$sensitivities[best_point]\n",
    "ROC$specificities[best_point]"
   ]
  },
  {
   "cell_type": "markdown",
   "metadata": {},
   "source": [
    "## VOTING"
   ]
  },
  {
   "cell_type": "code",
   "execution_count": 22,
   "metadata": {
    "scrolled": false
   },
   "outputs": [],
   "source": [
    "mode <- function(x) {\n",
    "  ux <- unique(x)\n",
    "  ux[which.max(tabulate(match(x, ux)))]\n",
    "}\n",
    "\n",
    "SEN = c()\n",
    "SPE = c()\n",
    "ACC = c()\n",
    "\n",
    "for (prob in seq(0,1,0.001))\n",
    "     {\n",
    "        results = prediction_results\n",
    "        results[which(results<prob)] = 'ET'\n",
    "        results[which(results != 'ET')] = 'PD'\n",
    "      \n",
    "        predicted_disease = c()\n",
    "        for (id in patient_ids)\n",
    "            {\n",
    "                pat_ind = which(gameplay_df$sampID == id)\n",
    "                pat_res = results[pat_ind]\n",
    "                predicted_disease = c(predicted_disease,mode(pat_res))\n",
    "            }\n",
    "\n",
    "        pd_ind = which(actual_disease == 'PD')\n",
    "        et_ind = which(actual_disease == 'ET')\n",
    "\n",
    "        tp = length(which(predicted_disease[pd_ind] == 'PD'))\n",
    "        tn = length(which(predicted_disease[et_ind] == 'ET'))\n",
    "        fn = length(which(predicted_disease[pd_ind] != 'PD'))\n",
    "        fp = length(which(predicted_disease[et_ind] != 'ET'))\n",
    "\n",
    "        sensitivity = tp/(tp+fn)\n",
    "        specificity = tn/(tn+fp)\n",
    "        accuracy = (tp+tn)/(tp+tn+fp+fn)\n",
    "\n",
    "        SEN = c(SEN,sensitivity)\n",
    "        SPE = c(SPE,specificity)\n",
    "        ACC = c(ACC, accuracy)\n",
    "    }\n"
   ]
  },
  {
   "cell_type": "code",
   "execution_count": 23,
   "metadata": {},
   "outputs": [
    {
     "data": {
      "text/html": [
       "'Max Accuracy = 0.756'"
      ],
      "text/latex": [
       "'Max Accuracy = 0.756'"
      ],
      "text/markdown": [
       "'Max Accuracy = 0.756'"
      ],
      "text/plain": [
       "[1] \"Max Accuracy = 0.756\""
      ]
     },
     "metadata": {},
     "output_type": "display_data"
    },
    {
     "data": {
      "text/html": [
       "<ol class=list-inline>\n",
       "\t<li>'Max Sensitivity = 0.96'</li>\n",
       "\t<li>'Max Sensitivity = 0.96'</li>\n",
       "\t<li>'Max Sensitivity = 0.96'</li>\n",
       "\t<li>'Max Sensitivity = 0.96'</li>\n",
       "\t<li>'Max Sensitivity = 0.96'</li>\n",
       "\t<li>'Max Sensitivity = 0.96'</li>\n",
       "\t<li>'Max Sensitivity = 0.96'</li>\n",
       "\t<li>'Max Sensitivity = 0.96'</li>\n",
       "\t<li>'Max Sensitivity = 0.96'</li>\n",
       "\t<li>'Max Sensitivity = 0.96'</li>\n",
       "\t<li>'Max Sensitivity = 0.96'</li>\n",
       "\t<li>'Max Sensitivity = 0.96'</li>\n",
       "\t<li>'Max Sensitivity = 0.96'</li>\n",
       "</ol>\n"
      ],
      "text/latex": [
       "\\begin{enumerate*}\n",
       "\\item 'Max Sensitivity = 0.96'\n",
       "\\item 'Max Sensitivity = 0.96'\n",
       "\\item 'Max Sensitivity = 0.96'\n",
       "\\item 'Max Sensitivity = 0.96'\n",
       "\\item 'Max Sensitivity = 0.96'\n",
       "\\item 'Max Sensitivity = 0.96'\n",
       "\\item 'Max Sensitivity = 0.96'\n",
       "\\item 'Max Sensitivity = 0.96'\n",
       "\\item 'Max Sensitivity = 0.96'\n",
       "\\item 'Max Sensitivity = 0.96'\n",
       "\\item 'Max Sensitivity = 0.96'\n",
       "\\item 'Max Sensitivity = 0.96'\n",
       "\\item 'Max Sensitivity = 0.96'\n",
       "\\end{enumerate*}\n"
      ],
      "text/markdown": [
       "1. 'Max Sensitivity = 0.96'\n",
       "2. 'Max Sensitivity = 0.96'\n",
       "3. 'Max Sensitivity = 0.96'\n",
       "4. 'Max Sensitivity = 0.96'\n",
       "5. 'Max Sensitivity = 0.96'\n",
       "6. 'Max Sensitivity = 0.96'\n",
       "7. 'Max Sensitivity = 0.96'\n",
       "8. 'Max Sensitivity = 0.96'\n",
       "9. 'Max Sensitivity = 0.96'\n",
       "10. 'Max Sensitivity = 0.96'\n",
       "11. 'Max Sensitivity = 0.96'\n",
       "12. 'Max Sensitivity = 0.96'\n",
       "13. 'Max Sensitivity = 0.96'\n",
       "\n",
       "\n"
      ],
      "text/plain": [
       " [1] \"Max Sensitivity = 0.96\" \"Max Sensitivity = 0.96\" \"Max Sensitivity = 0.96\"\n",
       " [4] \"Max Sensitivity = 0.96\" \"Max Sensitivity = 0.96\" \"Max Sensitivity = 0.96\"\n",
       " [7] \"Max Sensitivity = 0.96\" \"Max Sensitivity = 0.96\" \"Max Sensitivity = 0.96\"\n",
       "[10] \"Max Sensitivity = 0.96\" \"Max Sensitivity = 0.96\" \"Max Sensitivity = 0.96\"\n",
       "[13] \"Max Sensitivity = 0.96\""
      ]
     },
     "metadata": {},
     "output_type": "display_data"
    },
    {
     "data": {
      "text/html": [
       "<ol class=list-inline>\n",
       "\t<li>'Max Specificity = 0.5'</li>\n",
       "\t<li>'Max Specificity = 0.5'</li>\n",
       "\t<li>'Max Specificity = 0.5'</li>\n",
       "\t<li>'Max Specificity = 0.5'</li>\n",
       "\t<li>'Max Specificity = 0.5'</li>\n",
       "\t<li>'Max Specificity = 0.5'</li>\n",
       "\t<li>'Max Specificity = 0.5'</li>\n",
       "\t<li>'Max Specificity = 0.5'</li>\n",
       "\t<li>'Max Specificity = 0.5'</li>\n",
       "\t<li>'Max Specificity = 0.5'</li>\n",
       "\t<li>'Max Specificity = 0.5'</li>\n",
       "\t<li>'Max Specificity = 0.5'</li>\n",
       "\t<li>'Max Specificity = 0.5'</li>\n",
       "</ol>\n"
      ],
      "text/latex": [
       "\\begin{enumerate*}\n",
       "\\item 'Max Specificity = 0.5'\n",
       "\\item 'Max Specificity = 0.5'\n",
       "\\item 'Max Specificity = 0.5'\n",
       "\\item 'Max Specificity = 0.5'\n",
       "\\item 'Max Specificity = 0.5'\n",
       "\\item 'Max Specificity = 0.5'\n",
       "\\item 'Max Specificity = 0.5'\n",
       "\\item 'Max Specificity = 0.5'\n",
       "\\item 'Max Specificity = 0.5'\n",
       "\\item 'Max Specificity = 0.5'\n",
       "\\item 'Max Specificity = 0.5'\n",
       "\\item 'Max Specificity = 0.5'\n",
       "\\item 'Max Specificity = 0.5'\n",
       "\\end{enumerate*}\n"
      ],
      "text/markdown": [
       "1. 'Max Specificity = 0.5'\n",
       "2. 'Max Specificity = 0.5'\n",
       "3. 'Max Specificity = 0.5'\n",
       "4. 'Max Specificity = 0.5'\n",
       "5. 'Max Specificity = 0.5'\n",
       "6. 'Max Specificity = 0.5'\n",
       "7. 'Max Specificity = 0.5'\n",
       "8. 'Max Specificity = 0.5'\n",
       "9. 'Max Specificity = 0.5'\n",
       "10. 'Max Specificity = 0.5'\n",
       "11. 'Max Specificity = 0.5'\n",
       "12. 'Max Specificity = 0.5'\n",
       "13. 'Max Specificity = 0.5'\n",
       "\n",
       "\n"
      ],
      "text/plain": [
       " [1] \"Max Specificity = 0.5\" \"Max Specificity = 0.5\" \"Max Specificity = 0.5\"\n",
       " [4] \"Max Specificity = 0.5\" \"Max Specificity = 0.5\" \"Max Specificity = 0.5\"\n",
       " [7] \"Max Specificity = 0.5\" \"Max Specificity = 0.5\" \"Max Specificity = 0.5\"\n",
       "[10] \"Max Specificity = 0.5\" \"Max Specificity = 0.5\" \"Max Specificity = 0.5\"\n",
       "[13] \"Max Specificity = 0.5\""
      ]
     },
     "metadata": {},
     "output_type": "display_data"
    },
    {
     "data": {
      "image/png": "[encoded data removed]",
      "text/plain": [
       "Plot with title \"AUC: 0.753\""
      ]
     },
     "metadata": {},
     "output_type": "display_data"
    }
   ],
   "source": [
    "# AUC = Sum of area of trapezoids \n",
    "height = (SEN[-1]+SEN[-length(SEN)])/2  # 1/2(a+b)\n",
    "width = -diff(1-SPE) #                  # h\n",
    "auc = sum(height*width)\n",
    "\n",
    "plot(1-SPE,SEN,type='l',xlab = '1-Specificity',ylab='Sensitivity',main= paste('AUC:', auc) )\n",
    "abline(b = 1, a =0, lty=2)\n",
    "grid()\n",
    "\n",
    "paste('Max Accuracy =',round(max(ACC),3))\n",
    "best_point = which(ACC == max(ACC))\n",
    "paste('Max Sensitivity =',round(SEN[best_point],3))\n",
    "paste('Max Specificity =',round(SPE[best_point],3))\n",
    "\n",
    "points(x = 1-0.65, y = 0.68, col = 'red',pch = 19)"
   ]
  }
 ],
 "metadata": {
  "kernelspec": {
   "display_name": "R",
   "language": "R",
   "name": "ir"
  },
  "language_info": {
   "codemirror_mode": "r",
   "file_extension": ".r",
   "mimetype": "text/x-r-source",
   "name": "R",
   "pygments_lexer": "r",
   "version": "3.4.2"
  }
 },
 "nbformat": 4,
 "nbformat_minor": 2
}
