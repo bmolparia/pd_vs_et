{
 "cells": [
  {
   "cell_type": "markdown",
   "metadata": {
    "collapsed": true
   },
   "source": [
    "## Modelling"
   ]
  },
  {
   "cell_type": "code",
   "execution_count": 1,
   "metadata": {
    "scrolled": true
   },
   "outputs": [
    {
     "name": "stderr",
     "output_type": "stream",
     "text": [
      "Warning message:\n",
      "\"package 'nlme' was built under R version 3.4.3\"Warning message:\n",
      "\"package 'lme4' was built under R version 3.4.3\"Loading required package: Matrix\n",
      "Warning message:\n",
      "\"package 'Matrix' was built under R version 3.4.3\"\n",
      "Attaching package: 'lme4'\n",
      "\n",
      "The following object is masked from 'package:nlme':\n",
      "\n",
      "    lmList\n",
      "\n",
      "Warning message:\n",
      "\"package 'lattice' was built under R version 3.4.3\"Warning message:\n",
      "\"package 'gridExtra' was built under R version 3.4.3\"Warning message:\n",
      "\"package 'pROC' was built under R version 3.4.3\"Type 'citation(\"pROC\")' for a citation.\n",
      "\n",
      "Attaching package: 'pROC'\n",
      "\n",
      "The following objects are masked from 'package:stats':\n",
      "\n",
      "    cov, smooth, var\n",
      "\n"
     ]
    }
   ],
   "source": [
    "library('nlme')\n",
    "library('lme4')\n",
    "library('lattice')\n",
    "library('gridExtra')\n",
    "library('pROC')"
   ]
  },
  {
   "cell_type": "markdown",
   "metadata": {},
   "source": [
    "## GLM"
   ]
  },
  {
   "cell_type": "code",
   "execution_count": 2,
   "metadata": {},
   "outputs": [],
   "source": [
    "df = read.csv(file = 'gameplay_data_metrics.csv',header = T)"
   ]
  },
  {
   "cell_type": "code",
   "execution_count": 3,
   "metadata": {},
   "outputs": [],
   "source": [
    "log_energy = log(df$energy,2)\n",
    "avg_amp = scale(df$avg_amp)\n",
    "max_amp = scale(df$max_amp)\n",
    "energy = scale(df$energy)\n",
    "sids = as.numeric(df$sampID)"
   ]
  },
  {
   "cell_type": "code",
   "execution_count": 4,
   "metadata": {
    "scrolled": true
   },
   "outputs": [
    {
     "data": {
      "text/html": [
       "<table>\n",
       "<thead><tr><th></th><th scope=col>avg_amp</th><th scope=col>energy</th><th scope=col>max_amp</th><th scope=col>log_energy</th></tr></thead>\n",
       "<tbody>\n",
       "\t<tr><th scope=row>avg_amp</th><td>1.0000000</td><td>0.9938466</td><td>0.4866060</td><td>0.8442596</td></tr>\n",
       "\t<tr><th scope=row>energy</th><td>0.9938466</td><td>1.0000000</td><td>0.5001845</td><td>0.8542637</td></tr>\n",
       "\t<tr><th scope=row>max_amp</th><td>0.4866060</td><td>0.5001845</td><td>1.0000000</td><td>0.4629704</td></tr>\n",
       "\t<tr><th scope=row>log_energy</th><td>0.8442596</td><td>0.8542637</td><td>0.4629704</td><td>1.0000000</td></tr>\n",
       "</tbody>\n",
       "</table>\n"
      ],
      "text/latex": [
       "\\begin{tabular}{r|llll}\n",
       "  & avg\\_amp & energy & max\\_amp & log\\_energy\\\\\n",
       "\\hline\n",
       "\tavg\\_amp & 1.0000000 & 0.9938466 & 0.4866060 & 0.8442596\\\\\n",
       "\tenergy & 0.9938466 & 1.0000000 & 0.5001845 & 0.8542637\\\\\n",
       "\tmax\\_amp & 0.4866060 & 0.5001845 & 1.0000000 & 0.4629704\\\\\n",
       "\tlog\\_energy & 0.8442596 & 0.8542637 & 0.4629704 & 1.0000000\\\\\n",
       "\\end{tabular}\n"
      ],
      "text/markdown": [
       "\n",
       "| <!--/--> | avg_amp | energy | max_amp | log_energy | \n",
       "|---|---|---|---|\n",
       "| avg_amp | 1.0000000 | 0.9938466 | 0.4866060 | 0.8442596 | \n",
       "| energy | 0.9938466 | 1.0000000 | 0.5001845 | 0.8542637 | \n",
       "| max_amp | 0.4866060 | 0.5001845 | 1.0000000 | 0.4629704 | \n",
       "| log_energy | 0.8442596 | 0.8542637 | 0.4629704 | 1.0000000 | \n",
       "\n",
       "\n"
      ],
      "text/plain": [
       "           avg_amp   energy    max_amp   log_energy\n",
       "avg_amp    1.0000000 0.9938466 0.4866060 0.8442596 \n",
       "energy     0.9938466 1.0000000 0.5001845 0.8542637 \n",
       "max_amp    0.4866060 0.5001845 1.0000000 0.4629704 \n",
       "log_energy 0.8442596 0.8542637 0.4629704 1.0000000 "
      ]
     },
     "metadata": {},
     "output_type": "display_data"
    }
   ],
   "source": [
    "temp = cbind(avg_amp,energy,max_amp,log_energy)\n",
    "colnames(temp) = c('avg_amp', 'energy', 'max_amp', 'log_energy')\n",
    "cor(temp)"
   ]
  },
  {
   "cell_type": "code",
   "execution_count": 5,
   "metadata": {
    "scrolled": false
   },
   "outputs": [
    {
     "data": {
      "image/png": "[encoded data removed]",
      "text/plain": [
       "plot without title"
      ]
     },
     "metadata": {},
     "output_type": "display_data"
    }
   ],
   "source": [
    "p1 = xyplot(avg_amp ~ sids, pch = 16, color = 'blue',xlab = 'Sample ID', ylab = 'Avg_Amp',\n",
    "      scales=list(x=list(rot=90)))\n",
    "p2 = xyplot(max_amp ~ sids, pch = 16, color = 'blue',xlab = 'Sample ID', ylab = 'Max_Amp',\n",
    "      scales=list(x=list(rot=90)))\n",
    "p3 = xyplot(energy ~ sids, pch = 16, color = 'blue',xlab = 'Sample ID', ylab = 'Energy',\n",
    "      scales=list(x=list(rot=90)))\n",
    "p4 = xyplot(log_energy ~ sids, pch = 16, color = 'blue',xlab = 'Sample ID', ylab = 'Log2 Energy',\n",
    "      scales=list(x=list(rot=90)))\n",
    "\n",
    "grid.arrange(p1,p2,p3,p4, ncol=2, nrow = 2)"
   ]
  },
  {
   "cell_type": "markdown",
   "metadata": {},
   "source": [
    "### Logistic mixed model "
   ]
  },
  {
   "cell_type": "code",
   "execution_count": 6,
   "metadata": {
    "scrolled": false
   },
   "outputs": [
    {
     "name": "stderr",
     "output_type": "stream",
     "text": [
      "Warning message in checkConv(attr(opt, \"derivs\"), opt$par, ctrl = control$checkConv, :\n",
      "\"Model failed to converge with max|grad| = 0.0498897 (tol = 0.001, component 1)\""
     ]
    },
    {
     "data": {
      "text/plain": [
       "Generalized linear mixed model fit by maximum likelihood (Laplace\n",
       "  Approximation) [glmerMod]\n",
       " Family: binomial  ( logit )\n",
       "Formula: y ~ avg_amp + max_amp + log_energy + (1 | sids)\n",
       "Control: glmerControl(optimizer = \"bobyqa\")\n",
       "\n",
       "     AIC      BIC   logLik deviance df.resid \n",
       "    76.2     97.4    -33.1     66.2      506 \n",
       "\n",
       "Scaled residuals: \n",
       "      Min        1Q    Median        3Q       Max \n",
       "-0.110658 -0.023890  0.001478  0.002273  0.006016 \n",
       "\n",
       "Random effects:\n",
       " Groups Name        Variance Std.Dev.\n",
       " sids   (Intercept) 1355     36.81   \n",
       "Number of obs: 511, groups:  sids, 45\n",
       "\n",
       "Fixed effects:\n",
       "             Estimate Std. Error z value Pr(>|z|)    \n",
       "(Intercept) 15.475097   0.001421   10889   <2e-16 ***\n",
       "avg_amp      0.667381   0.001421     470   <2e-16 ***\n",
       "max_amp     -0.324293   0.001421    -228   <2e-16 ***\n",
       "log_energy  -0.210467   0.001422    -148   <2e-16 ***\n",
       "---\n",
       "Signif. codes:  0 '***' 0.001 '**' 0.01 '*' 0.05 '.' 0.1 ' ' 1\n",
       "\n",
       "Correlation of Fixed Effects:\n",
       "           (Intr) avg_mp max_mp\n",
       "avg_amp     0.000              \n",
       "max_amp     0.000  0.000       \n",
       "log_energy  0.000  0.000 -0.001\n",
       "convergence code: 0\n",
       "Model failed to converge with max|grad| = 0.0498897 (tol = 0.001, component 1)\n"
      ]
     },
     "metadata": {},
     "output_type": "display_data"
    }
   ],
   "source": [
    "y = as.numeric(df$tremor) - 1\n",
    "model = glmer(y ~ avg_amp + max_amp + log_energy + (1 | sids ), family = 'binomial',\n",
    "             control= glmerControl(optimizer=\"bobyqa\"))\n",
    "              #, optCtrl=list(maxfun=3e5)) \n",
    "summary(model)"
   ]
  },
  {
   "cell_type": "code",
   "execution_count": 7,
   "metadata": {},
   "outputs": [
    {
     "data": {
      "image/png": "[encoded data removed]",
      "text/plain": [
       "plot without title"
      ]
     },
     "metadata": {},
     "output_type": "display_data"
    }
   ],
   "source": [
    "plot(y,pch='O',col='black')\n",
    "points(fitted(model),pch ='*',col='red')"
   ]
  },
  {
   "cell_type": "markdown",
   "metadata": {},
   "source": [
    "### Linear mixed model"
   ]
  },
  {
   "cell_type": "code",
   "execution_count": 8,
   "metadata": {},
   "outputs": [
    {
     "name": "stderr",
     "output_type": "stream",
     "text": [
      "Warning message:\n",
      "\"extra argument(s) 'optCtrl' disregarded\"Warning message in optwrap(optimizer, devfun, getStart(start, rho$lower, rho$pp), :\n",
      "\"convergence code 3 from bobyqa: bobyqa -- a trust region step failed to reduce q\""
     ]
    },
    {
     "data": {
      "text/plain": [
       "Linear mixed model fit by REML ['lmerMod']\n",
       "Formula: y ~ avg_amp + max_amp + log_energy + (1 | sids)\n",
       "Control: lmerControl(optimizer = \"bobyqa\")\n",
       "\n",
       "REML criterion at convergence: -9703.5\n",
       "\n",
       "Scaled residuals: \n",
       "       Min         1Q     Median         3Q        Max \n",
       "-1.606e-04 -7.529e-06  2.031e-06  8.189e-06  1.284e-04 \n",
       "\n",
       "Random effects:\n",
       " Groups   Name        Variance  Std.Dev. \n",
       " sids     (Intercept) 2.192e-02 1.480e-01\n",
       " Residual             4.012e-11 6.334e-06\n",
       "Number of obs: 511, groups:  sids, 45\n",
       "\n",
       "Fixed effects:\n",
       "              Estimate Std. Error t value\n",
       "(Intercept)  5.556e-01  2.207e-02   25.17\n",
       "avg_amp      5.264e-11  7.432e-07    0.00\n",
       "max_amp     -3.812e-11  3.774e-07    0.00\n",
       "log_energy  -3.491e-12  6.701e-07    0.00\n",
       "\n",
       "Correlation of Fixed Effects:\n",
       "           (Intr) avg_mp max_mp\n",
       "avg_amp     0.000              \n",
       "max_amp     0.000 -0.271       \n",
       "log_energy  0.000 -0.734 -0.076\n",
       "convergence code: 3\n"
      ]
     },
     "metadata": {},
     "output_type": "display_data"
    }
   ],
   "source": [
    "y = as.numeric(df$tremor) - 1\n",
    "model = lmer(y ~ avg_amp + max_amp + log_energy + (1 | sids ), control= lmerControl(optimizer=\"bobyqa\")\n",
    "              ,optCtrl=list(maxfun=1e6)) \n",
    "summary(model)"
   ]
  },
  {
   "cell_type": "code",
   "execution_count": 9,
   "metadata": {},
   "outputs": [
    {
     "data": {
      "image/png": "[encoded data removed]",
      "text/plain": [
       "plot without title"
      ]
     },
     "metadata": {},
     "output_type": "display_data"
    }
   ],
   "source": [
    "plot(y,pch='O',col='black')\n",
    "points(fitted(model),pch ='*',col='red')"
   ]
  },
  {
   "cell_type": "markdown",
   "metadata": {},
   "source": [
    "\n",
    "### Logistic model"
   ]
  },
  {
   "cell_type": "code",
   "execution_count": 10,
   "metadata": {},
   "outputs": [
    {
     "data": {
      "text/plain": [
       "\n",
       "Call:\n",
       "glm(formula = y ~ avg_amp + max_amp + log_energy, family = \"binomial\")\n",
       "\n",
       "Deviance Residuals: \n",
       "    Min       1Q   Median       3Q      Max  \n",
       "-1.8765  -1.2047   0.6695   1.0575   3.2262  \n",
       "\n",
       "Coefficients:\n",
       "            Estimate Std. Error z value Pr(>|z|)    \n",
       "(Intercept)  10.9268     3.8988   2.803  0.00507 ** \n",
       "avg_amp       1.3818     0.3269   4.226 2.37e-05 ***\n",
       "max_amp      -0.8287     0.1666  -4.973 6.60e-07 ***\n",
       "log_energy   -0.6658     0.2403  -2.770  0.00560 ** \n",
       "---\n",
       "Signif. codes:  0 '***' 0.001 '**' 0.01 '*' 0.05 '.' 0.1 ' ' 1\n",
       "\n",
       "(Dispersion parameter for binomial family taken to be 1)\n",
       "\n",
       "    Null deviance: 705.10  on 510  degrees of freedom\n",
       "Residual deviance: 652.28  on 507  degrees of freedom\n",
       "AIC: 660.28\n",
       "\n",
       "Number of Fisher Scoring iterations: 5\n"
      ]
     },
     "metadata": {},
     "output_type": "display_data"
    }
   ],
   "source": [
    "y = as.numeric(df$tremor) - 1\n",
    "model = glm(y ~ avg_amp + max_amp + log_energy, family = 'binomial')\n",
    "summary(model)"
   ]
  },
  {
   "cell_type": "code",
   "execution_count": 11,
   "metadata": {},
   "outputs": [
    {
     "data": {
      "image/png": "[encoded data removed]",
      "text/plain": [
       "plot without title"
      ]
     },
     "metadata": {},
     "output_type": "display_data"
    }
   ],
   "source": [
    "plot(y,pch=16,col='black')\n",
    "res = fitted(model)\n",
    "etr = sort(res[which(df$tremor == 'ET')])\n",
    "pdr = sort(res[which(df$tremor == 'PD')])\n",
    "\n",
    "res2 = c(etr,pdr)\n",
    "points(res2,pch =16,col='red')"
   ]
  },
  {
   "cell_type": "code",
   "execution_count": 12,
   "metadata": {},
   "outputs": [
    {
     "data": {
      "image/png": "[encoded data removed]",
      "text/plain": [
       "Plot with title \"AUC 0.6927\""
      ]
     },
     "metadata": {},
     "output_type": "display_data"
    }
   ],
   "source": [
    "ROC = roc(response = y, predictor = res2)\n",
    "plot.roc(ROC, main = paste('AUC',round(ROC$auc,4)))"
   ]
  },
  {
   "cell_type": "markdown",
   "metadata": {},
   "source": [
    "### Linear model"
   ]
  },
  {
   "cell_type": "code",
   "execution_count": 13,
   "metadata": {},
   "outputs": [
    {
     "data": {
      "text/plain": [
       "\n",
       "Call:\n",
       "lm(formula = y ~ avg_amp + max_amp + log_energy)\n",
       "\n",
       "Residuals:\n",
       "    Min      1Q  Median      3Q     Max \n",
       "-0.7401 -0.5317  0.2920  0.4341  1.3333 \n",
       "\n",
       "Coefficients:\n",
       "            Estimate Std. Error t value Pr(>|t|)    \n",
       "(Intercept)  1.94263    0.67362   2.884   0.0041 ** \n",
       "avg_amp      0.18765    0.04048   4.636 4.53e-06 ***\n",
       "max_amp     -0.13629    0.02448  -5.568 4.17e-08 ***\n",
       "log_energy  -0.08680    0.04167  -2.083   0.0377 *  \n",
       "---\n",
       "Signif. codes:  0 '***' 0.001 '**' 0.01 '*' 0.05 '.' 0.1 ' ' 1\n",
       "\n",
       "Residual standard error: 0.4799 on 507 degrees of freedom\n",
       "Multiple R-squared:  0.0802,\tAdjusted R-squared:  0.07476 \n",
       "F-statistic: 14.74 on 3 and 507 DF,  p-value: 3.259e-09\n"
      ]
     },
     "metadata": {},
     "output_type": "display_data"
    }
   ],
   "source": [
    "y = as.numeric(df$tremor) - 1\n",
    "model = lm(y ~ avg_amp + max_amp + log_energy)\n",
    "summary(model)"
   ]
  },
  {
   "cell_type": "code",
   "execution_count": 14,
   "metadata": {},
   "outputs": [
    {
     "data": {
      "image/png": "[encoded data removed]",
      "text/plain": [
       "plot without title"
      ]
     },
     "metadata": {},
     "output_type": "display_data"
    }
   ],
   "source": [
    "plot(y,pch=16,col='black')\n",
    "res = fitted(model)\n",
    "etr = sort(res[which(df$tremor == 'ET')])\n",
    "pdr = sort(res[which(df$tremor == 'PD')])\n",
    "\n",
    "res2 = c(etr,pdr)\n",
    "points(res2,pch =16,col='red')"
   ]
  },
  {
   "cell_type": "code",
   "execution_count": 15,
   "metadata": {
    "scrolled": false
   },
   "outputs": [
    {
     "data": {
      "image/png": "[encoded data removed]",
      "text/plain": [
       "Plot with title \"AUC 0.696\""
      ]
     },
     "metadata": {},
     "output_type": "display_data"
    }
   ],
   "source": [
    "ROC = roc(response = y, predictor = res2)\n",
    "plot.roc(ROC, main = paste('AUC',round(ROC$auc,4)))"
   ]
  },
  {
   "cell_type": "markdown",
   "metadata": {
    "collapsed": true
   },
   "source": [
    "### Logistic model with random sampling"
   ]
  },
  {
   "cell_type": "code",
   "execution_count": null,
   "metadata": {},
   "outputs": [
    {
     "name": "stderr",
     "output_type": "stream",
     "text": [
      "Warning message:\n",
      "\"glm.fit: fitted probabilities numerically 0 or 1 occurred\"Warning message:\n",
      "\"glm.fit: fitted probabilities numerically 0 or 1 occurred\"Warning message:\n",
      "\"glm.fit: fitted probabilities numerically 0 or 1 occurred\"Warning message:\n",
      "\"glm.fit: fitted probabilities numerically 0 or 1 occurred\"Warning message:\n",
      "\"glm.fit: fitted probabilities numerically 0 or 1 occurred\"Warning message:\n",
      "\"glm.fit: fitted probabilities numerically 0 or 1 occurred\"Warning message:\n",
      "\"glm.fit: fitted probabilities numerically 0 or 1 occurred\"Warning message:\n",
      "\"glm.fit: fitted probabilities numerically 0 or 1 occurred\"Warning message:\n",
      "\"glm.fit: fitted probabilities numerically 0 or 1 occurred\"Warning message:\n",
      "\"glm.fit: fitted probabilities numerically 0 or 1 occurred\"Warning message:\n",
      "\"glm.fit: fitted probabilities numerically 0 or 1 occurred\"Warning message:\n",
      "\"glm.fit: fitted probabilities numerically 0 or 1 occurred\"Warning message:\n",
      "\"glm.fit: fitted probabilities numerically 0 or 1 occurred\"Warning message:\n",
      "\"glm.fit: fitted probabilities numerically 0 or 1 occurred\"Warning message:\n",
      "\"glm.fit: fitted probabilities numerically 0 or 1 occurred\"Warning message:\n",
      "\"glm.fit: fitted probabilities numerically 0 or 1 occurred\""
     ]
    }
   ],
   "source": [
    "ss = unique(sids)\n",
    "COEFF = c(0,0,0,0)\n",
    "for (i in seq(10000))\n",
    "    {\n",
    "        rows = c()\n",
    "        for (i in ss)\n",
    "            {dis = which(sids == i)\n",
    "             row_num = sample(dis,1)\n",
    "             rows = c(rows,row_num)\n",
    "            }\n",
    "\n",
    "        sub_df = df[rows,]\n",
    "        log_energy = log(sub_df$energy)\n",
    "        y = as.numeric(sub_df$tremor) - 1\n",
    "        model = glm(y ~ sub_df$avg_amp + sub_df$max_amp + log_energy, family = 'binomial')\n",
    "        coeffs = model$coefficients\n",
    "        COEFF = rbind(COEFF,coeffs)\n",
    "    \n",
    "    }"
   ]
  },
  {
   "cell_type": "code",
   "execution_count": null,
   "metadata": {},
   "outputs": [],
   "source": [
    "COEFF = COEFF[-1,]"
   ]
  },
  {
   "cell_type": "code",
   "execution_count": null,
   "metadata": {},
   "outputs": [],
   "source": [
    "COEFF = as.data.frame(COEFF)\n",
    "average_coeffs = sapply(COEFF,mean)"
   ]
  },
  {
   "cell_type": "code",
   "execution_count": null,
   "metadata": {},
   "outputs": [],
   "source": [
    "average_coeffs"
   ]
  },
  {
   "cell_type": "code",
   "execution_count": null,
   "metadata": {},
   "outputs": [],
   "source": [
    "y = as.numeric(df$tremor) - 1\n",
    "log_energy = log(df$energy)\n",
    "model = glm(y ~ avg_amp + max_amp + log_energy, family = 'binomial')\n",
    "model$coefficients = average_coeffs"
   ]
  },
  {
   "cell_type": "code",
   "execution_count": null,
   "metadata": {},
   "outputs": [],
   "source": [
    "plot(y,pch=16,col='black')\n",
    "res = fitted(model)\n",
    "etr = sort(res[which(df$tremor == 'ET')])\n",
    "pdr = sort(res[which(df$tremor == 'PD')])\n",
    "\n",
    "res2 = c(etr,pdr)\n",
    "points(res2,pch =16,col='red')"
   ]
  },
  {
   "cell_type": "code",
   "execution_count": 23,
   "metadata": {
    "scrolled": false
   },
   "outputs": [
    {
     "data": {
      "image/png": "[encoded data removed]",
      "text/plain": [
       "Plot with title \"AUC 0.6927\""
      ]
     },
     "metadata": {},
     "output_type": "display_data"
    }
   ],
   "source": [
    "ROC = roc(response = y, predictor = res2)\n",
    "plot.roc(ROC, main = paste('AUC',round(ROC$auc,4)))"
   ]
  }
 ],
 "metadata": {
  "kernelspec": {
   "display_name": "R",
   "language": "R",
   "name": "ir"
  },
  "language_info": {
   "codemirror_mode": "r",
   "file_extension": ".r",
   "mimetype": "text/x-r-source",
   "name": "R",
   "pygments_lexer": "r",
   "version": "3.4.2"
  }
 },
 "nbformat": 4,
 "nbformat_minor": 2
}
