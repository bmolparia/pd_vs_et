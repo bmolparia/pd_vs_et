{
 "cells": [
  {
   "cell_type": "code",
   "execution_count": 1,
   "metadata": {},
   "outputs": [],
   "source": [
    "import re\n",
    "import math\n",
    "\n",
    "import numpy as np\n",
    "from scipy import stats\n",
    "from matplotlib import pyplot as plt"
   ]
  },
  {
   "cell_type": "code",
   "execution_count": 2,
   "metadata": {},
   "outputs": [],
   "source": [
    "def calc_grs(user_calls,odds_ratios):\n",
    "    grs = 0\n",
    "    user_dosages = {}\n",
    "    for rsid in odds_ratios:\n",
    "        call = user_calls[rsid]\n",
    "        odds = odds_ratios[rsid]['odds']\n",
    "        effect_allele = odds_ratios[rsid]['eff']\n",
    "        maf = odds_ratios[rsid]['maf']\n",
    "        \n",
    "        if call == '00':\n",
    "            # Missing genotype\n",
    "            dosage = 2*maf\n",
    "        else:\n",
    "            #print(effect_allele)\n",
    "            dosage = call.count(effect_allele)\n",
    "            \n",
    "        grs  = grs + (math.log(odds)*(dosage))\n",
    "        user_dosages[rsid] = dosage\n",
    "    \n",
    "    return grs, user_dosages"
   ]
  },
  {
   "cell_type": "code",
   "execution_count": 3,
   "metadata": {},
   "outputs": [],
   "source": [
    "with open('./data/sample_disease_info.txt','r') as inp:\n",
    "    dat = inp.readlines()\n",
    "\n",
    "disease_status = {'PD':[],'ET':[]}\n",
    "for line in dat[1:]:\n",
    "    line = line.strip().split('\\t')\n",
    "    user_id = re.sub('sc0+','',line[0])\n",
    "    user_id = user_id[:-1]\n",
    "    disease_status[line[1]].append(user_id)\n"
   ]
  },
  {
   "cell_type": "markdown",
   "metadata": {},
   "source": [
    "## File Paths"
   ]
  },
  {
   "cell_type": "code",
   "execution_count": 4,
   "metadata": {},
   "outputs": [],
   "source": [
    "uk_biobank_data = './data/genetic_data/parkinsons_rsid_selected.ped'\n",
    "uk_biobank_snp_map = './data/genetic_data/parkinsons_rsid_selected.map'"
   ]
  },
  {
   "cell_type": "code",
   "execution_count": 5,
   "metadata": {},
   "outputs": [
    {
     "name": "stdout",
     "output_type": "stream",
     "text": [
      "{1: 'rs35749011', 2: 'rs823118', 3: 'rs16857578', 4: 'rs6430538', 5: 'rs1474055', 6: 'rs10513789', 7: 'rs34311866', 8: 'rs11724635', 9: 'rs6812193', 10: 'rs9275503', 11: 'rs199355', 12: 'rs117896735', 13: 'rs329648', 14: 'rs76904798', 15: 'rs11060180', 16: 'rs11158026', 17: 'rs11627207', 18: 'rs2414739', 19: 'rs14235', 20: 'rs5026246', 21: 'rs4130047', 22: 'rs8118008'}\n"
     ]
    }
   ],
   "source": [
    "snp_mapping = {}\n",
    "with open(uk_biobank_snp_map, 'r') as inp:\n",
    "    dat = inp.readlines()\n",
    "    snp_index = 1\n",
    "    for line in dat:\n",
    "        line = line.split('\\t')\n",
    "        rsid = line[1]\n",
    "        snp_mapping[snp_index] = rsid\n",
    "        snp_index += 1\n",
    "\n",
    "print(snp_mapping)"
   ]
  },
  {
   "cell_type": "code",
   "execution_count": 6,
   "metadata": {},
   "outputs": [],
   "source": [
    "# Data stored in dictionary as follows\n",
    "# {'user1':{'snp1':'AA','snp2':'AB', ...}, 'user2':{'snp1':'AB','snp2':'AB, ...}, ...}\n",
    "\n",
    "snp_info = {}"
   ]
  },
  {
   "cell_type": "code",
   "execution_count": 7,
   "metadata": {},
   "outputs": [],
   "source": [
    "with open(uk_biobank_data, 'r') as inp:\n",
    "    dat = inp.readlines()\n",
    "    \n",
    "for line in dat:\n",
    "    line = line.strip().split(' ')\n",
    "    user_id = line[1]\n",
    "    genotypes = line[6:]\n",
    "    \n",
    "    snp_info[user_id] = {}\n",
    "    \n",
    "    n = 1\n",
    "    while n<=len(snp_mapping):\n",
    "        call = genotypes[(n-1)*2]+genotypes[(n-1)*2+1]\n",
    "        rsid = snp_mapping[n]\n",
    "        snp_info[user_id][rsid] = call\n",
    "        n += 1     "
   ]
  },
  {
   "cell_type": "markdown",
   "metadata": {
    "collapsed": true
   },
   "source": [
    "## SNP Odds Ratios"
   ]
  },
  {
   "cell_type": "code",
   "execution_count": 8,
   "metadata": {},
   "outputs": [],
   "source": [
    "odds_ratio_file = './data/genetic_data/selected_snp_or.tsv'"
   ]
  },
  {
   "cell_type": "code",
   "execution_count": 9,
   "metadata": {},
   "outputs": [
    {
     "data": {
      "text/plain": [
       "{'rs10513789': {'alt': 'T', 'eff': 'G', 'maf': 0.193, 'odds': 0.842},\n",
       " 'rs11060180': {'alt': 'G', 'eff': 'A', 'maf': 0.558, 'odds': 1.105},\n",
       " 'rs11158026': {'alt': 'C', 'eff': 'T', 'maf': 0.335, 'odds': 0.904},\n",
       " 'rs11627207': {'alt': 'G', 'eff': 'T', 'maf': 0.468, 'odds': 0.897},\n",
       " 'rs11724635': {'alt': 'C', 'eff': 'A', 'maf': 0.553, 'odds': 1.126},\n",
       " 'rs117896735': {'alt': 'G', 'eff': 'A', 'maf': 0.014, 'odds': 1.624},\n",
       " 'rs14235': {'alt': 'G', 'eff': 'A', 'maf': 0.381, 'odds': 1.103},\n",
       " 'rs1474055': {'alt': 'C', 'eff': 'T', 'maf': 0.128, 'odds': 1.214},\n",
       " 'rs16857578': {'alt': 'C', 'eff': 'T', 'maf': 0.14, 'odds': 1.131},\n",
       " 'rs199355': {'alt': 'G', 'eff': 'A', 'maf': 0.59, 'odds': 1.11},\n",
       " 'rs2414739': {'alt': 'G', 'eff': 'A', 'maf': 0.734, 'odds': 1.113},\n",
       " 'rs329648': {'alt': 'C', 'eff': 'T', 'maf': 0.354, 'odds': 1.105},\n",
       " 'rs34311866': {'alt': 'C', 'eff': 'T', 'maf': 0.809, 'odds': 0.786},\n",
       " 'rs35749011': {'alt': 'G', 'eff': 'A', 'maf': 0.017, 'odds': 1.824},\n",
       " 'rs4130047': {'alt': 'T', 'eff': 'C', 'maf': 0.693, 'odds': 0.904},\n",
       " 'rs5026246': {'alt': 'T', 'eff': 'G', 'maf': 0.226, 'odds': 0.769},\n",
       " 'rs6430538': {'alt': 'C', 'eff': 'T', 'maf': 0.43, 'odds': 0.875},\n",
       " 'rs6812193': {'alt': 'C', 'eff': 'T', 'maf': 0.364, 'odds': 0.907},\n",
       " 'rs76904798': {'alt': 'C', 'eff': 'T', 'maf': 0.143, 'odds': 1.155},\n",
       " 'rs8118008': {'alt': 'G', 'eff': 'A', 'maf': 0.657, 'odds': 1.111},\n",
       " 'rs823118': {'alt': 'C', 'eff': 'T', 'maf': 0.559, 'odds': 1.122},\n",
       " 'rs9275503': {'alt': 'A', 'eff': 'G', 'maf': 0.094, 'odds': 0.826}}"
      ]
     },
     "execution_count": 9,
     "metadata": {},
     "output_type": "execute_result"
    }
   ],
   "source": [
    "odds_ratios = {}\n",
    "\n",
    "with open(odds_ratio_file,'r') as inp:\n",
    "    dat = inp.readlines()\n",
    "\n",
    "for line in dat[1:]:\n",
    "    line = line.strip().split('\\t')\n",
    "    rsid = line[0]\n",
    "    effect = line[1]\n",
    "    alternate = line[2]\n",
    "    minor_allele_frequency = float(line[3])\n",
    "    odds_effect = float(line[4])    \n",
    "    \n",
    "    odds_ratios[rsid] = {}\n",
    "    odds_ratios[rsid]['eff'] = effect\n",
    "    odds_ratios[rsid]['alt'] = alternate\n",
    "    odds_ratios[rsid]['odds'] = odds_effect\n",
    "    odds_ratios[rsid]['maf'] = minor_allele_frequency   \n",
    "\n",
    "\n",
    "\n",
    "odds_ratios"
   ]
  },
  {
   "cell_type": "code",
   "execution_count": 10,
   "metadata": {
    "scrolled": false
   },
   "outputs": [],
   "source": [
    "outfile = open('./data/genetic_data/snp_grs.txt','w')\n",
    "GRS = {}\n",
    "for user in list(snp_info):\n",
    "    user_calls = snp_info[user]\n",
    "    grs, user_dosage = calc_grs(user_calls,odds_ratios)\n",
    "    GRS[user] = grs\n",
    "    \n",
    "    outfile.write(str(user)+'\\t'+str(grs)+'\\n')\n",
    "    \n",
    "outfile.close()"
   ]
  },
  {
   "cell_type": "code",
   "execution_count": 11,
   "metadata": {},
   "outputs": [],
   "source": [
    "et_grs = []\n",
    "for i in disease_status['ET']:\n",
    "    try:\n",
    "        et_grs.append(GRS[i])\n",
    "    except KeyError:\n",
    "        pass\n",
    "\n",
    "pd_grs = []\n",
    "for i in disease_status['PD']:\n",
    "    try:\n",
    "        pd_grs.append(GRS[i])\n",
    "    except KeyError:\n",
    "        pass\n"
   ]
  },
  {
   "cell_type": "code",
   "execution_count": 12,
   "metadata": {},
   "outputs": [
    {
     "data": {
      "text/plain": [
       "Ttest_indResult(statistic=0.44915688761576866, pvalue=0.6549367211050412)"
      ]
     },
     "execution_count": 12,
     "metadata": {},
     "output_type": "execute_result"
    }
   ],
   "source": [
    "stats.ttest_ind(et_grs,pd_grs)"
   ]
  }
 ],
 "metadata": {
  "kernelspec": {
   "display_name": "Python 3",
   "language": "python",
   "name": "python3"
  },
  "language_info": {
   "codemirror_mode": {
    "name": "ipython",
    "version": 3
   },
   "file_extension": ".py",
   "mimetype": "text/x-python",
   "name": "python",
   "nbconvert_exporter": "python",
   "pygments_lexer": "ipython3",
   "version": "3.6.4"
  }
 },
 "nbformat": 4,
 "nbformat_minor": 2
}
